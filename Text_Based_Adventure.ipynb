{
  "nbformat": 4,
  "nbformat_minor": 0,
  "metadata": {
    "colab": {
      "provenance": [],
      "include_colab_link": true
    },
    "kernelspec": {
      "name": "python3",
      "display_name": "Python 3"
    },
    "language_info": {
      "name": "python"
    }
  },
  "cells": [
    {
      "cell_type": "markdown",
      "metadata": {
        "id": "view-in-github",
        "colab_type": "text"
      },
      "source": [
        "<a href=\"https://colab.research.google.com/github/YSHS-APCSP-2526/text-based-adventure-Caitlyn-Smith/blob/main/Text_Based_Adventure.ipynb\" target=\"_parent\"><img src=\"https://colab.research.google.com/assets/colab-badge.svg\" alt=\"Open In Colab\"/></a>"
      ]
    },
    {
      "cell_type": "markdown",
      "source": [
        "#Requirements for text based adventure\n",
        "1. You must have at least 2 different \"paths\" that are at least 4 decisions in length\n",
        "2. Include an element of randomness (from the random library)\n",
        "3. Include a list that is core to the text based adventure\n",
        "4. Include a function that is called within your program that includes a while loop, and a parameter that influences a conditional statement in your function.\n",
        "5. Commented Code.\n",
        "6. A [digital flowchart](https://docs.google.com/document/d/1p2k3wL6gzjYWBuWxwEQptmbbOZZNsQrthlC12SNtYgY/edit?usp=sharing) that follows accepted symbols for representing code. You can use google slides or [draw.io](https://www.drawio.com/) for the flowchart."
      ],
      "metadata": {
        "id": "zpSmche7G_jy"
      }
    },
    {
      "cell_type": "code",
      "source": [
        "inventory = []\n",
        "def intro():\n",
        "  response = \" \"\n",
        "  print(\"You wake up in an empty field. You can't remember your name, but it wasn't important anyways. The field stretches foward in front \\nof you as far as you can see. Behind you is a forest.\")\n",
        "  print(\"Where would you like to go?\")\n",
        "  print(\"- Forest\")\n",
        "  print(\"- Field\")\n",
        "  print(\"- Nowhere\")\n",
        "\n",
        "  x = 0\n",
        "  while x < 1:\n",
        "    response = input()\n",
        "    if response.lower() == \"forest\":\n",
        "      x = 1\n",
        "      forest()\n",
        "    if response.lower() == \"field\":\n",
        "      x = 1\n",
        "      field()\n",
        "    if response.lower() == \"nowhere\":\n",
        "      print(\"You continue to lay there. You have a gut feeling that you should move.\")\n",
        "\n",
        "def forest():\n",
        "  print(\"You head into the forest. It's damp and shady, but light still shines through the canopy. A small goblin slips and falls in front \\nof you. It seems to be carrying something.\")\n",
        "  print(\"What would you like to do?\")\n",
        "  print(\"- Attack\")\n",
        "  print(\"- Talk\")\n",
        "  print(\"- Help him up\")\n",
        "\n",
        "  x = 0\n",
        "  while x < 1:\n",
        "    response = input()\n",
        "    if response.lower() == \"attack\":\n",
        "      x = 1\n",
        "      attack()\n",
        "\n",
        "def attack():\n",
        "  print(\"You kick the goblin. He quickly scrambles away. A letter lays on the ground.\\n Pick it up?\\n- yes\\n- no \")\n",
        "\n",
        "  x = 0\n",
        "  while x < 1:\n",
        "    response = input()\n",
        "    if response.lower() == \"yes\" or response.lower() == \"y\":\n",
        "\n",
        "      inventory.append(\"letter\")\n",
        "      print(\"There's no name or address on it.\")\n",
        "      print(\"Open it?\")\n",
        "      response = input()\n",
        "      if response.lower() == \"yes\" or response.lower() == \"y\":\n",
        "        x = 1\n",
        "        print(\"All it says is \\n\\n    Do you regret your decision?\\n\\n\\nYou put the letter away.\")\n",
        "      if response.lower() == \"no\" or response.lower() == \"n\":\n",
        "        x = 1\n",
        "        print(\"You put the letter away.\")\n",
        "    if response.lower() == \"no\" or response.lower() == \"n\":\n",
        "      x = 1\n",
        "      pass\n",
        "\n",
        "\n",
        "def field():\n",
        "  print(\"You walk further into the field. The grasslands seem to stretch on for miles. You eventually see what looks to be a house. \\nDo you want to go in?\\n- yes\\n- no\\n- knock first\")\n"
      ],
      "metadata": {
        "id": "DToswc3clKpf"
      },
      "execution_count": 17,
      "outputs": []
    },
    {
      "cell_type": "code",
      "source": [
        "def main():\n",
        "  intro()\n",
        "\n",
        "\n",
        "main()"
      ],
      "metadata": {
        "id": "LQuG-KfJlMj3",
        "outputId": "62b96abe-50bf-4cdf-f7eb-0840a3835879",
        "colab": {
          "base_uri": "https://localhost:8080/"
        }
      },
      "execution_count": 19,
      "outputs": [
        {
          "output_type": "stream",
          "name": "stdout",
          "text": [
            "You wake up in an empty field. You can't remember your name, but it wasn't important anyways. The field stretches foward in front \n",
            "of you as far as you can see. Behind you is a forest.\n",
            "Where would you like to go?\n",
            "- Forest\n",
            "- Field\n",
            "- Nowhere\n",
            "field\n",
            "You walk further into the field. The grasslands seem to stretch on for miles. You eventually see what looks to be a house. \n",
            " Do you want to go in? Though maybe you should knock first.\n"
          ]
        }
      ]
    }
  ]
}